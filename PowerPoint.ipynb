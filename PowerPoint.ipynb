{
 "cells": [
  {
   "cell_type": "code",
   "execution_count": 1,
   "metadata": {},
   "outputs": [],
   "source": [
    "# Non-Technical PowerPoint "
   ]
  },
  {
   "cell_type": "markdown",
   "metadata": {},
   "source": [
    "![](https://raw.githubusercontent.com/Edward-Beck/dsc-4-final-project-online-ds-pt-100118/master/Project4/pictures/slide1.png)"
   ]
  },
  {
   "cell_type": "markdown",
   "metadata": {},
   "source": [
    "![](https://raw.githubusercontent.com/Edward-Beck/dsc-4-final-project-online-ds-pt-100118/master/Project4/pictures/Slide2.png)"
   ]
  },
  {
   "cell_type": "markdown",
   "metadata": {},
   "source": [
    "![](https://raw.githubusercontent.com/Edward-Beck/dsc-4-final-project-online-ds-pt-100118/master/Project4/pictures/Slide3.png)"
   ]
  },
  {
   "cell_type": "markdown",
   "metadata": {},
   "source": [
    "![](https://raw.githubusercontent.com/Edward-Beck/dsc-4-final-project-online-ds-pt-100118/master/Project4/pictures/slide4.png)"
   ]
  },
  {
   "cell_type": "markdown",
   "metadata": {},
   "source": [
    "![](https://raw.githubusercontent.com/Edward-Beck/dsc-4-final-project-online-ds-pt-100118/master/Project4/pictures/Slide5.png)"
   ]
  },
  {
   "cell_type": "markdown",
   "metadata": {},
   "source": [
    "![](https://raw.githubusercontent.com/Edward-Beck/dsc-4-final-project-online-ds-pt-100118/master/Project4/pictures/Slide6.png)"
   ]
  },
  {
   "cell_type": "markdown",
   "metadata": {},
   "source": [
    "![](https://raw.githubusercontent.com/Edward-Beck/dsc-4-final-project-online-ds-pt-100118/master/Project4/pictures/slide7.png)"
   ]
  },
  {
   "cell_type": "markdown",
   "metadata": {},
   "source": [
    "![](https://raw.githubusercontent.com/Edward-Beck/dsc-4-final-project-online-ds-pt-100118/master/Project4/pictures/slide8.png)"
   ]
  },
  {
   "cell_type": "markdown",
   "metadata": {},
   "source": [
    "![](https://raw.githubusercontent.com/Edward-Beck/dsc-4-final-project-online-ds-pt-100118/master/Project4/pictures/slide9.png)"
   ]
  },
  {
   "cell_type": "markdown",
   "metadata": {},
   "source": [
    "![](https://raw.githubusercontent.com/Edward-Beck/dsc-4-final-project-online-ds-pt-100118/master/Project4/pictures/slide10.png)"
   ]
  },
  {
   "cell_type": "markdown",
   "metadata": {},
   "source": [
    "![](https://raw.githubusercontent.com/Edward-Beck/dsc-4-final-project-online-ds-pt-100118/master/Project4/pictures/slide11.png)"
   ]
  },
  {
   "cell_type": "markdown",
   "metadata": {},
   "source": [
    "![](https://raw.githubusercontent.com/Edward-Beck/dsc-4-final-project-online-ds-pt-100118/master/Project4/pictures/slide12.png)"
   ]
  },
  {
   "cell_type": "markdown",
   "metadata": {},
   "source": [
    "![](https://raw.githubusercontent.com/Edward-Beck/dsc-4-final-project-online-ds-pt-100118/master/Project4/pictures/Slide13.png)"
   ]
  },
  {
   "cell_type": "markdown",
   "metadata": {},
   "source": [
    "![](https://raw.githubusercontent.com/Edward-Beck/dsc-4-final-project-online-ds-pt-100118/master/Project4/pictures/Slide14.png)"
   ]
  },
  {
   "cell_type": "markdown",
   "metadata": {},
   "source": [
    "![](https://raw.githubusercontent.com/Edward-Beck/dsc-4-final-project-online-ds-pt-100118/master/Project4/pictures/Slide15.png)"
   ]
  },
  {
   "cell_type": "markdown",
   "metadata": {},
   "source": [
    "![](https://raw.githubusercontent.com/Edward-Beck/dsc-4-final-project-online-ds-pt-100118/master/Project4/pictures/Slide16.png)"
   ]
  },
  {
   "cell_type": "markdown",
   "metadata": {},
   "source": [
    "![](https://raw.githubusercontent.com/Edward-Beck/dsc-4-final-project-online-ds-pt-100118/master/Project4/pictures/Slide17.png)"
   ]
  },
  {
   "cell_type": "markdown",
   "metadata": {},
   "source": [
    "![](https://raw.githubusercontent.com/Edward-Beck/dsc-4-final-project-online-ds-pt-100118/master/Project4/pictures/Slide18.png)"
   ]
  },
  {
   "cell_type": "markdown",
   "metadata": {},
   "source": [
    "![](https://raw.githubusercontent.com/Edward-Beck/dsc-4-final-project-online-ds-pt-100118/master/Project4/pictures/Slide19.png)"
   ]
  }
 ],
 "metadata": {
  "kernelspec": {
   "display_name": "learn-env",
   "language": "python",
   "name": "learn-env"
  },
  "language_info": {
   "codemirror_mode": {
    "name": "ipython",
    "version": 3
   },
   "file_extension": ".py",
   "mimetype": "text/x-python",
   "name": "python",
   "nbconvert_exporter": "python",
   "pygments_lexer": "ipython3",
   "version": "3.7.0"
  }
 },
 "nbformat": 4,
 "nbformat_minor": 2
}
